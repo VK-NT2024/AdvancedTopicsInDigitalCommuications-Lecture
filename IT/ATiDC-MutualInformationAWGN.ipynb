{
 "cells": [
  {
   "cell_type": "markdown",
   "metadata": {},
   "source": [
    "# Digital Transmission over AWGN Channel"
   ]
  },
  {
   "cell_type": "markdown",
   "metadata": {},
   "source": [
    "## Mutual Information"
   ]
  },
  {
   "cell_type": "markdown",
   "metadata": {},
   "source": [
    "The data transmission over an AWGN channel disturbs the transmit signal $x$ by additive white Gaussian noise $w$ and we receive $y=x+w$. The mutual information is defined as the difference of two differential entropies\n",
    "\n",
    "\\begin{align}\n",
    "    I({\\cal X};{\\cal Y}) &= h({\\cal Y}) - h({\\cal Y} \\mid {\\cal X}) \\; .\n",
    "\\end{align}\n",
    "\n",
    "If $\\cal X$ is known, only the noise introduces uncertainty to $\\cal Y$. Hence, the term $h({\\cal Y} \\mid {\\cal X})$ equals the differential entropy $h({\\cal W})$ of the noise and is constant for given noise power. While the capacity \n",
    "\n",
    "\\begin{equation}\n",
    "    C = \\log_2 \\left( 1 + \\frac{\\sigma_{\\cal X}^2}{\\sigma_{\\cal W}^2} \\right)\n",
    "\\end{equation} \n",
    "\n",
    "is achieved for a Gaussian input distribution, practical digital modulation schemes use discrete alphabets like ASK, QAM or PSK and symbols are ususally equally likely. For these kind of input signals, no simple analytical closed-form expressions for the mutual information exist. The reason is the computation of the differential entropy $h({\\cal Y})$ which requires the probability density function\n",
    "\n",
    "\\begin{align}\n",
    "    p(y) = \\sum_{x \\in \\mathbb{X}} p(y \\mid x) \\cdot \\Pr \\{ x\\} .\n",
    "\\end{align}\n",
    "\n",
    "It consists of a sum of terms and the logarithm of it cannot be simplified. The mutual information\n",
    "\n",
    "\\begin{align}\n",
    "    I({\\cal X};{\\cal Y}) \n",
    "    = \\sum_{x \\in \\mathbb{X}} \\Pr\\{ x \\} \\cdot \n",
    "      \\int_{-\\infty}^{\\infty} p(y \\mid x) \\cdot \\log_2 \\frac{p(y \\mid x)}{p(y)} \\ dy\n",
    "\\end{align}\n",
    "\n",
    "can only be computed numerically. The mutual information is a data rate normalized to the required bandwidth with unit bit/s/Hz. It is therefore also called spectral efficiency."
   ]
  },
  {
   "cell_type": "markdown",
   "metadata": {},
   "source": [
    "## Phase Shift Keying (PSK)"
   ]
  },
  {
   "cell_type": "code",
   "execution_count": null,
   "metadata": {},
   "outputs": [],
   "source": [
    "import numpy as np\n",
    "import matplotlib.pyplot as plt\n",
    "from info_theory import mi_awgn\n",
    "\n",
    "SNRdB = np.linspace(-10,30,101)\n",
    "SNR = 10**(SNRdB/10)\n",
    "\n",
    "Cgauss_real = 0.5 * np.log2(1+SNR)\n",
    "Cgauss_cmplx = np.log2(1+SNR)\n",
    "\n",
    "BPSK = ([-1,+1],[0.5,0.5])\n",
    "QPSK = ([-1-1j,-1+1j,1-1j,1+1j],[0.25,0.25,0.25,0.25])\n",
    "PSK8 = (np.exp(1j*2.0*np.pi*np.arange(8)/8.0),np.ones(8)/8)\n",
    "PSK16 = (np.exp(1j*2.0*np.pi*np.arange(16)/16.0),np.ones(16)/16)\n",
    "\n",
    "I_BPSK = mi_awgn(BPSK[0],BPSK[1],SNRdB,1000)\n",
    "I_QPSK = mi_awgn(QPSK[0],QPSK[1],SNRdB,100)\n",
    "I_8PSK = mi_awgn(PSK8[0],PSK8[1],SNRdB,100)\n",
    "I_16PSK = mi_awgn(PSK16[0],PSK16[1],SNRdB,100)\n",
    "\n",
    "fig1 = plt.figure(figsize=(7,5))\n",
    "ax1 = fig1.add_subplot(111)\n",
    "ax1.plot(SNRdB, Cgauss_real, 'k--', label='$C_{\\mathrm{real}}$')\n",
    "ax1.plot(SNRdB, Cgauss_cmplx, 'k-', label='$C_{\\mathrm{cmplx}}$')\n",
    "ax1.plot(SNRdB, I_BPSK, 'b--', label='BPSK')\n",
    "ax1.plot(SNRdB, I_QPSK, 'r-', label='QPSK')\n",
    "ax1.plot(SNRdB, I_8PSK, 'g-', label='8-PSK')\n",
    "ax1.plot(SNRdB, I_16PSK, 'm-', label='16-PSK')\n",
    "plt.ylim(0,5)\n",
    "plt.legend()\n",
    "plt.xlabel('$10 \\cdot \\log_{10} (E_{\\mathrm{s}}/N_0)$')\n",
    "plt.title('mutual information for PSK and AWGN channel')\n",
    "plt.grid()"
   ]
  },
  {
   "cell_type": "markdown",
   "metadata": {},
   "source": [
    "The above figure shows with black curves the capacity of the AWGN channel for real and complex input signals. They serve as upper bounds for the digital modulation schemes. For high SNR, the PSK curves saturate at $m$ bit/s/Hz because a PSK symbol cannot carry more than $m=\\log_2M$ bit. For BPSK, we achieve at most $I({\\cal X};{\\cal Y})=1$ bit/s/Hz, for QPSK $I({\\cal X};{\\cal Y})=2$ bit/s/Hz, for 8-PSK $I({\\cal X};{\\cal Y})=3$ bit/s/Hz etc. In the smal SNR regime, all curves are close to each other. In this area it does not pay off to use a modulation scheme with large $M$ because using BPSK suffices.\n",
    "\n",
    "If the curves are plotted versus the energy efficiency $E_{\\mathrm{b}}/N_0$, we obtain the diagram below. It illustrates the absolut limit at -1.59 dB which also holds for all digital modulation schemes. For the real case, the limit is 3 dB higher and amounts to 1.41 dB."
   ]
  },
  {
   "cell_type": "code",
   "execution_count": null,
   "metadata": {},
   "outputs": [],
   "source": [
    "EbN0dB_gauss_real = SNRdB - 10*np.log10(Cgauss_real)\n",
    "EbN0dB_gauss_cmplx = SNRdB - 10*np.log10(Cgauss_cmplx)\n",
    "\n",
    "EbN0dB_BPSK = SNRdB - 10*np.log10(I_BPSK)\n",
    "EbN0dB_QPSK = SNRdB - 10*np.log10(I_QPSK)\n",
    "EbN0dB_8PSK = SNRdB - 10*np.log10(I_8PSK)\n",
    "EbN0dB_16PSK = SNRdB - 10*np.log10(I_16PSK)\n",
    "\n",
    "fig2 = plt.figure(figsize=(7,5))\n",
    "ax2 = fig2.add_subplot(111)\n",
    "ax2.plot(EbN0dB_gauss_real, Cgauss_real, 'k--', label='$C_{\\mathrm{real}}$')\n",
    "ax2.plot(EbN0dB_gauss_cmplx, Cgauss_cmplx, 'k-', label='$C_{\\mathrm{cmplx}}$')\n",
    "ax2.plot(EbN0dB_BPSK, I_BPSK, 'b--', label='BPSK')\n",
    "ax2.plot(EbN0dB_QPSK, I_QPSK, 'r-', label='QPSK')\n",
    "ax2.plot(EbN0dB_8PSK, I_8PSK, 'g-', label='8-PSK')\n",
    "ax2.plot(EbN0dB_16PSK, I_16PSK, 'm-', label='16-PSK')\n",
    "ax2.plot([-1.59,-1.59], [0,5], '-', color='gray')\n",
    "ax2.plot([1.41,1.41], [0,5], '--', color='grey')\n",
    "plt.ylim(0,5)\n",
    "plt.legend()\n",
    "plt.xlabel('$10 \\cdot \\log_{10} (E_{\\mathrm{b}}/N_0)$')\n",
    "plt.title('mutual information for PSK and AWGN channel')\n",
    "plt.grid()"
   ]
  },
  {
   "cell_type": "markdown",
   "metadata": {},
   "source": [
    "## Amplitude Shift Keying"
   ]
  },
  {
   "cell_type": "code",
   "execution_count": null,
   "metadata": {},
   "outputs": [],
   "source": [
    "ASK4  = (3-2*np.arange(4),np.ones(4)/4)\n",
    "ASK8  = (7-2*np.arange(8),np.ones(8)/8)\n",
    "ASK16 = (15-2*np.arange(16),np.ones(16)/16)\n",
    "\n",
    "\n",
    "I_2ASK  = I_BPSK\n",
    "I_4ASK  = mi_awgn(ASK4[0],ASK4[1],SNRdB)\n",
    "I_8ASK  = mi_awgn(ASK8[0],ASK8[1],SNRdB)\n",
    "I_16ASK = mi_awgn(ASK16[0],ASK16[1],SNRdB)\n",
    "\n",
    "fig3 = plt.figure(figsize=(7,5))\n",
    "ax3 = fig3.add_subplot(111)\n",
    "ax3.plot(SNRdB, Cgauss_real, 'k-', label='$C_{\\mathrm{real}}$')\n",
    "ax3.plot(SNRdB, I_2ASK, 'b-', label='2-ASK')\n",
    "ax3.plot(SNRdB, I_4ASK, 'r-', label='4-ASK')\n",
    "ax3.plot(SNRdB, I_8ASK, 'g-', label='8-ASK')\n",
    "ax3.plot(SNRdB, I_16ASK, 'm-', label='16-ASK')\n",
    "plt.ylim(0,5)\n",
    "plt.legend()\n",
    "plt.xlabel('$10 \\cdot \\log_{10} (E_{\\mathrm{s}}/N_0)$')\n",
    "plt.title('mutual information for ASK and AWGN channel')\n",
    "plt.grid()"
   ]
  },
  {
   "cell_type": "markdown",
   "metadata": {},
   "source": [
    "## Quadrature Amplitude Modulation (QAM)"
   ]
  },
  {
   "cell_type": "code",
   "execution_count": null,
   "metadata": {},
   "outputs": [],
   "source": [
    "# create alphabets\n",
    "real_amplitudes = 1 - 2*np.arange(2)\n",
    "xr,xi = np.meshgrid(real_amplitudes,real_amplitudes)\n",
    "QAM4  = ((xr+1j*xi).flatten(),np.ones(4)/4)\n",
    "\n",
    "real_amplitudes = 3-2*np.arange(4)\n",
    "xr,xi = np.meshgrid(real_amplitudes,real_amplitudes)\n",
    "QAM16  = ((xr+1j*xi).flatten(),np.ones(16)/16)\n",
    "\n",
    "real_amplitudes = 7-2*np.arange(8)\n",
    "xr,xi = np.meshgrid(real_amplitudes,real_amplitudes)\n",
    "QAM64 = ((xr+1j*xi).flatten(),np.ones(64)/64)\n",
    "\n",
    "# determine mutual information\n",
    "I_4QAM  = mi_awgn(QAM4[0],QAM4[1],SNRdB,100)\n",
    "I_16QAM = mi_awgn(QAM16[0],QAM16[1],SNRdB,100)\n",
    "I_64QAM = mi_awgn(QAM64[0],QAM64[1],SNRdB,100)\n",
    "\n",
    "fig4 = plt.figure(figsize=(7,5))\n",
    "ax4 = fig4.add_subplot(111)\n",
    "ax4.plot(SNRdB, Cgauss_cmplx, 'k-', label='$C_{\\mathrm{cmplx}}$')\n",
    "ax4.plot(SNRdB, I_4QAM, 'r-', label='4-QAM')\n",
    "ax4.plot(SNRdB, I_16QAM, 'g-', label='16-QAM')\n",
    "ax4.plot(SNRdB, I_64QAM, 'm-', label='64-QAM')\n",
    "plt.ylim(0,7)\n",
    "plt.legend()\n",
    "plt.xlabel('$10 \\cdot \\log_{10} (E_{\\mathrm{s}}/N_0)$')\n",
    "plt.title('mutual information for QAM and AWGN channel')\n",
    "plt.grid()"
   ]
  },
  {
   "cell_type": "markdown",
   "metadata": {},
   "source": [
    "## Comparison of Modulation Schemes"
   ]
  },
  {
   "cell_type": "code",
   "execution_count": null,
   "metadata": {},
   "outputs": [],
   "source": [
    "fig5 = plt.figure(figsize=(7,5))\n",
    "ax5 = fig5.add_subplot(111)\n",
    "ax5.plot(SNRdB, Cgauss_cmplx, 'k-', label='$C_{\\mathrm{cmplx}}$')\n",
    "ax5.plot(SNRdB, I_16ASK, 'r-', label='16-ASK')\n",
    "ax5.plot(SNRdB, I_16QAM, 'g-', label='16-QAM')\n",
    "ax5.plot(SNRdB, I_16PSK, 'm-', label='16-PSK')\n",
    "plt.ylim(0,5)\n",
    "plt.legend()\n",
    "plt.xlabel('$10 \\cdot \\log_{10} (E_{\\mathrm{s}}/N_0)$')\n",
    "plt.title('mutual information for $M=16$ and AWGN channel')\n",
    "plt.grid()"
   ]
  },
  {
   "cell_type": "code",
   "execution_count": null,
   "metadata": {},
   "outputs": [],
   "source": [
    "EbN0dB_16ASK = SNRdB - 10*np.log10(I_16ASK)\n",
    "EbN0dB_16QAM = SNRdB - 10*np.log10(I_16QAM)\n",
    "EbN0dB_16PSK = SNRdB - 10*np.log10(I_16PSK)\n",
    "\n",
    "fig6 = plt.figure(figsize=(7,5))\n",
    "ax6 = fig6.add_subplot(111)\n",
    "ax6.plot(EbN0dB_gauss_cmplx, Cgauss_cmplx, 'k-', label='$C_{\\mathrm{cmplx}}$')\n",
    "ax6.plot(EbN0dB_16ASK, I_16ASK, 'r-', label='16-ASK')\n",
    "ax6.plot(EbN0dB_16QAM, I_16QAM, 'g-', label='16-QAM')\n",
    "ax6.plot(EbN0dB_16PSK, I_16PSK, 'm-', label='16-PSK')\n",
    "plt.ylim(0,5)\n",
    "plt.legend()\n",
    "plt.xlabel('$10 \\cdot \\log_{10} (E_{\\mathrm{B}}/N_0)$')\n",
    "plt.title('mutual information for $M=16$ and AWGN channel')\n",
    "plt.grid()"
   ]
  },
  {
   "cell_type": "markdown",
   "metadata": {},
   "source": [
    "The above figures illustrate that QAM achieves the highest mutual information for a given cardinality $M$. The reason is the more efficient arrangement of symbols in the complex plane, such that a larger minimum Euclidean distance is achieved assuming the same cardinality $M$ and transmit power $\\sigma_{\\cal X}^2$. ASK only uses the real part and exploits only one dimension. PSK arranges all symbols on a circle and does not efficiently exploit the complex plane."
   ]
  },
  {
   "cell_type": "markdown",
   "metadata": {},
   "source": [
    "## Shaping of Alphabets"
   ]
  },
  {
   "cell_type": "code",
   "execution_count": null,
   "metadata": {},
   "outputs": [],
   "source": [
    "# approximate gaussian distribution of QAM alphabet\n",
    "M = 64\n",
    "alpha = np.arange(0.01,0.1,0.02)\n",
    "pmf_gauss = np.zeros((M,len(alpha)))\n",
    "I_64QAM_gauss = np.zeros((len(SNRdB),len(alpha)))\n",
    "EbN0dB_64QAM_gauss = np.zeros((len(SNRdB),len(alpha)))\n",
    "\n",
    "for run in np.arange(len(alpha)):\n",
    "    pmf_gauss[:,run] = np.exp(-alpha[run]*np.abs(QAM64[0])**2)\n",
    "    pmf_gauss[:,run] = pmf_gauss[:,run] / np.sum(pmf_gauss[:,run])\n",
    "    \n",
    "    I_64QAM_gauss[:,run] = mi_awgn(QAM64[0],pmf_gauss[:,run],SNRdB,100)\n",
    "    EbN0dB_64QAM_gauss[:,run] = SNRdB - 10*np.log10(I_64QAM_gauss[:,run])\n",
    "\n",
    "EbN0dB_64QAM = SNRdB - 10*np.log10(I_64QAM)\n",
    "\n",
    "fig7 = plt.figure(figsize=(7,5))\n",
    "ax7 = fig7.add_subplot(111)\n",
    "for run in np.arange(len(alpha)):\n",
    "    ax7.plot(EbN0dB_64QAM_gauss[:,run], I_64QAM_gauss[:,run],color='gray')\n",
    "ax7.plot(EbN0dB_gauss_cmplx, Cgauss_cmplx, 'k-', label='$C_{\\mathrm{cmplx}}$')\n",
    "ax7.plot(EbN0dB_64QAM, I_64QAM, 'r-', label='64-QAM (uniform)')\n",
    "plt.ylim(0,7)\n",
    "plt.legend()\n",
    "plt.xlabel('$10 \\cdot \\log_{10} (E_{\\mathrm{b}}/N_0)$')\n",
    "plt.title('mutual information for 64-QAM and AWGN channell')\n",
    "plt.grid()"
   ]
  },
  {
   "cell_type": "markdown",
   "metadata": {},
   "source": [
    "Besides the discreteness of digital modulation schemes, another drawback compared to the Gaussian case is the uniform distribution of the symbols. This penalty can be reduced by choosing a discretized Gaussian distribution for the signal constellation. It has to be ensured that the average transmit power remains the same. The above diagram shows that this modification increases the mutual information of the QAM. erhöht werden kann. A uniform distribution achieves the highest mutual information in the high SNR regime because it provides the highest entropy $H_{\\max} = \\log_2(M)=6$ bit. Using a Gaussian shape at high SNR is not beneficial. In the medium SNR regime, shaping increases the achievable mutual information and the gap to the channel capacity can be significantly reduced. As the gray colored curves intersect each other, it becomes obvious that the optimal variance of the discretized Gaussian distribution depends on the SNR and no unique solution exists. The channel capacity is achieved for a true continously Gaussian distributed input symbol and serves as an upper bound. "
   ]
  }
 ],
 "metadata": {
  "kernelspec": {
   "display_name": "Python 3 (ipykernel)",
   "language": "python",
   "name": "python3"
  },
  "language_info": {
   "codemirror_mode": {
    "name": "ipython",
    "version": 3
   },
   "file_extension": ".py",
   "mimetype": "text/x-python",
   "name": "python",
   "nbconvert_exporter": "python",
   "pygments_lexer": "ipython3",
   "version": "3.9.18"
  }
 },
 "nbformat": 4,
 "nbformat_minor": 4
}
