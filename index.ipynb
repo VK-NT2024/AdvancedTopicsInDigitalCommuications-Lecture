{
 "cells": [
  {
   "cell_type": "markdown",
   "metadata": {
    "nbsphinx": "hidden"
   },
   "source": [
    "# Advanced Topics in Digital Communications\n",
    "\n",
    "This collection of [jupyter](https://jupyter.org/) notebooks represent additional material of the masters course in Advanced Topics in Digital Communications, read by Volker Kühn, Institute of Communications Engineering, Universität Rostock. They cover basic fundamentals of digital communications as well as advanced topics related to the fields multi-user commuications and relay networks. Basic concepts of information theory are explained and illustrated by numerical examples in Python (http://ipython.org/). For detailed information about the theoretical background, we refer to the lecture slides and the recommended literature."
   ]
  },
  {
   "cell_type": "markdown",
   "metadata": {
    "nbsphinx-toctree": {
     "maxdepth": 3,
     "numbered": true
    }
   },
   "source": "# Content"
  },
  {
   "cell_type": "markdown",
   "metadata": {
    "nbsphinx-toctree": {
     "maxdepth": 3,
     "numbered": true
    }
   },
   "source": [
    "## Part 1: Introduction\n",
    "\n",
    "1. [Conditional probability densities of AWGN channels](ATiDC-AWGNCondProbs.ipynb)\n",
    "2. [Bayesian Risk Functions](ATiDC-BayesianRisk.ipynb)\n",
    "3. [Error Rates of Digital Modulation Schemes](ATiDC-DecisionErrorRates.ipynb)\n",
    "4. [Diversity and Error Rates](ATiDC-DiversityErrorRates.ipynb)\n",
    "5. [Receive Filter and Noise](ATiDC-noise.ipynb)\n",
    "6. [Error Rates for ASK](ATiDC-PerformanceASK.ipynb)\n",
    "7. [Error Rates for PSK](ATiDC-PerformancePSK.ipynb)\n",
    "8. [Error Rates for QAM](ATiDC-PerformanceQAM.ipynb)\n",
    "9. [Comparison of Digital Modulation Schemes](ATiDC-SER-PSK-QAM.ipynb)\n"
   ]
  },
  {
   "cell_type": "markdown",
   "metadata": {},
   "source": [
    "## Part 3: Multi-User Information Theory\n",
    "\n",
    "1. [Rate Region Multiple Access Channel (MAC: TDMA, FDMA, NOMA)](ATiDC-MAC-RateRegions.ipynb)\n",
    "2. [Rate Region Broadcast Channel (BC: TDMA, FDMA, NOMA)](ATiDC-BC-RateRegion.ipynb)\n",
    "3. [Rate Region Broadcast Channel (BC: NOMA, convex hull)](ATiDC-BC-RateRegions.ipynb)\n",
    "4. [Duality of MAC and BC](ATiDC-MAC-BC-Duality.ipynb)\n",
    "5. [Duality of BC and MAC](ATiDC-BC-MAC-Duality.ipynb)\n",
    "6. [Multi-User Diversity](ATiDC-multiUserDiversity.ipynb)\n",
    "\n",
    "\n",
    "# Literature\n",
    "\n",
    "The contents base on the following literature:\n",
    "\n",
    "* Lecture slides available via StudIP\n",
    "* Athanasios Papoulis: \"Probability, Random Variables and Stochastic Processes\", McGraw-Hill, 3rd edition, 1991\n",
    "* H. Stark, J. W. Woods: \"Probability and Random Processes with Applications to Signal Processing\", 3rd edition, Prentice Hall, 2002\n",
    "* Richard A. Johnson: \"Probability and Statistics for Engineers\", 7th edition, Prentice Hall, 2005\n",
    "* D. Tse and P. Viswanath: \"Fundamentals of Wireless Communications\", Cambridge University Press, 2005\n",
    "* Andrea Goldsmith: \"Wireless Communications\", Cambridge University Press, 2005\n",
    "* T.M. Cover, J.A. Thomas, \"Elements of Information Theory\", Wiley & Sons, 2006"
   ]
  },
  {
   "cell_type": "markdown",
   "metadata": {},
   "source": [
    "# Contributors\n",
    "\n",
    "* Volker Kühn (author)\n",
    "* Ahmed Alaa Ahmed Alkishki (implementation of ECC library, code review)"
   ]
  },
  {
   "cell_type": "markdown",
   "metadata": {},
   "source": [
    "**Copyright**\n",
    "\n",
    "The notebooks are provided as [Open Educational Resources](https://en.wikipedia.org/wiki/Open_educational_resources). Feel free to use the notebooks for your own purposes. The text is licensed under [Creative Commons Attribution 4.0](https://creativecommons.org/licenses/by/4.0/), the code of the IPython examples under the [MIT license](https://opensource.org/licenses/MIT). Please attribute the work as follows: *Sascha Spors, Digital Signal Processing - Lecture notes featuring computational examples*."
   ]
  }
 ],
 "metadata": {
  "anaconda-cloud": {},
  "kernelspec": {
   "display_name": "Python 3 (ipykernel)",
   "language": "python",
   "name": "python3"
  },
  "language_info": {
   "codemirror_mode": {
    "name": "ipython",
    "version": 3
   },
   "file_extension": ".py",
   "mimetype": "text/x-python",
   "name": "python",
   "nbconvert_exporter": "python",
   "pygments_lexer": "ipython3",
   "version": "3.9.17"
  }
 },
 "nbformat": 4,
 "nbformat_minor": 4
}
